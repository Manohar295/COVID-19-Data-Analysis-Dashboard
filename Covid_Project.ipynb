Jupuyter notebook link: http://localhost:8888/files/Covid_Project.ipynb?_xsrf=2%7C30310f9d%7Ca84d53736f390845c5f4b5e2c1c89e45%7C1745908042
